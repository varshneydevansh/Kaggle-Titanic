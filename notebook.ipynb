{
  "cells": [
    {
      "metadata": {
        "_cell_guid": "b1076dfc-b9ad-4769-8c92-a6c4dae69d19",
        "_uuid": "8f2839f25d086af736a60e9eeb907d3b93b6e0e5",
        "trusted": false,
        "collapsed": true
      },
      "cell_type": "code",
      "source": "import pandas as pd\nimport numpy as np\nimport matplotlib.pyplot as plt\n%matplotlib inline\nimport seaborn as sns\nsns.set() # setting seaborn default for plots",
      "execution_count": null,
      "outputs": []
    },
    {
      "metadata": {
        "_cell_guid": "79c7e3d0-c299-4dcb-8224-4455121ee9b0",
        "_uuid": "d629ff2d2480ee46fbb7e2d37f6b5fab8052498a",
        "trusted": false,
        "collapsed": true
      },
      "cell_type": "code",
      "source": "train = pd.read_csv('../input/train.csv')\ntest = pd.read_csv('../input/test.csv')\ntrain.head()",
      "execution_count": null,
      "outputs": []
    },
    {
      "metadata": {
        "_cell_guid": "c83bf908-9ef1-4e5e-9034-868183330775",
        "scrolled": false,
        "_uuid": "758189242905c1f8805b5acd624d1c10cc0fe4dc",
        "trusted": false,
        "collapsed": true
      },
      "cell_type": "code",
      "source": "train.shape\n",
      "execution_count": null,
      "outputs": []
    },
    {
      "metadata": {
        "_cell_guid": "2a0481b0-db16-4fc4-92ea-eedf45d7a5c2",
        "_uuid": "a07f6410eb1ab4e23ad9bd3ba8eb8208a2fc0c5d",
        "trusted": false,
        "collapsed": true
      },
      "cell_type": "code",
      "source": "train.describe(include=['O'])",
      "execution_count": null,
      "outputs": []
    },
    {
      "metadata": {
        "_cell_guid": "86442036-9365-494f-855b-61d7b792e314",
        "_uuid": "67ec326afa6a07241c37b80ed2a9bdb08b919350",
        "trusted": false,
        "collapsed": true
      },
      "cell_type": "code",
      "source": "test.head()",
      "execution_count": null,
      "outputs": []
    },
    {
      "metadata": {
        "_cell_guid": "7b9eacda-8ed8-49bf-9714-2b29b9aaf34d",
        "_uuid": "620ebcb51b5c8b362fb6be40c0c01511ec4c1d59",
        "trusted": false,
        "collapsed": true
      },
      "cell_type": "code",
      "source": "survived = train[train['Survived'] == 1]\nnot_survived = train[train['Survived'] == 0]\n\nprint (\"Survived: %i (%.1f%%)\"%(len(survived), float(len(survived))/len(train)*100.0))\nprint (\"Not Survived: %i (%.1f%%)\"%(len(not_survived), float(len(not_survived))/len(train)*100.0))\nprint (\"Total: %i\"%len(train))",
      "execution_count": null,
      "outputs": []
    },
    {
      "metadata": {
        "_cell_guid": "728bc192-5fd7-4934-bcd9-30f3ad6a519a",
        "_uuid": "533efb7c9e4d820be1e35a4b3893c13063f49546",
        "trusted": false,
        "collapsed": true
      },
      "cell_type": "code",
      "source": "train[['Pclass', 'Survived']].groupby(['Pclass'], as_index=False).mean()",
      "execution_count": null,
      "outputs": []
    },
    {
      "metadata": {
        "_cell_guid": "3b0e9229-a1a2-4398-83ab-1bdd12d1ec2a",
        "_uuid": "3afd836b86cd0d2703d5f85f45ee9d839b320ae2",
        "trusted": false,
        "collapsed": true
      },
      "cell_type": "code",
      "source": "sns.barplot(x='Pclass', y='Survived', data=train)",
      "execution_count": null,
      "outputs": []
    },
    {
      "metadata": {
        "_cell_guid": "b4336ca0-2b5f-4a59-8d25-d7308b0ddbc4",
        "_uuid": "0edb093b5556fe150ef1c2e7a28a3a1c8a69248a",
        "trusted": false,
        "collapsed": true
      },
      "cell_type": "code",
      "source": "tab = pd.crosstab(train['Pclass'], train['Sex'])\nprint (tab)\n\ntab.div(tab.sum(1).astype(float), axis=0).plot(kind=\"bar\", stacked=True)\nplt.xlabel('Pclass')\nplt.ylabel('Percentage')\n",
      "execution_count": null,
      "outputs": []
    },
    {
      "metadata": {
        "_cell_guid": "317a711d-d7b2-4103-bf7d-9c5b8bebfc54",
        "_uuid": "7177d58f1ec00af2c4bf06b471b9d7a690912107",
        "trusted": false,
        "collapsed": true
      },
      "cell_type": "code",
      "source": "sns.factorplot('Sex', 'Survived', hue='Pclass', size=4, aspect=2, data=train)",
      "execution_count": null,
      "outputs": []
    },
    {
      "metadata": {
        "_cell_guid": "fed075fa-7ee6-4e4e-8143-6a8674a26a90",
        "_uuid": "52a7d0737f3d66ff45043e1cbb23da966cda2992",
        "trusted": false,
        "collapsed": true
      },
      "cell_type": "code",
      "source": "train.groupby('Embarked').Survived.value_counts()",
      "execution_count": null,
      "outputs": []
    },
    {
      "metadata": {
        "_cell_guid": "90a6b209-a8de-41a0-85c1-e0d0e869e261",
        "_uuid": "162fb7fd91830837cd538884251242b6768cfd9e",
        "trusted": false,
        "collapsed": true
      },
      "cell_type": "code",
      "source": "train[['Embarked', 'Survived']].groupby(['Embarked'], as_index=False).mean()",
      "execution_count": null,
      "outputs": []
    },
    {
      "metadata": {
        "_cell_guid": "8551dbdc-27cf-41ca-9081-daf4d83a7fe6",
        "_uuid": "bac17f218f7a703b4966de0ae9db9ffd00747912",
        "trusted": false,
        "collapsed": true
      },
      "cell_type": "code",
      "source": "fig = plt.figure(figsize=(15,5))\nax1 = fig.add_subplot(131)\nax2 = fig.add_subplot(132)\nax3 = fig.add_subplot(133)\n\nsns.violinplot(x=\"Embarked\", y=\"Age\", hue=\"Survived\", data=train, split=True, ax=ax1)\nsns.violinplot(x=\"Pclass\", y=\"Age\", hue=\"Survived\", data=train, split=True, ax=ax2)\nsns.violinplot(x=\"Sex\", y=\"Age\", hue=\"Survived\", data=train, split=True, ax=ax3)",
      "execution_count": null,
      "outputs": []
    },
    {
      "metadata": {
        "_cell_guid": "490891ec-3f41-48ba-a79d-0081218328d4",
        "_uuid": "556bf1f289ca9ebf1e14e66375377a4d6f9b279c",
        "trusted": false,
        "collapsed": true
      },
      "cell_type": "code",
      "source": "total_survived = train[train['Survived']==1]\ntotal_not_survived = train[train['Survived']==0]\nmale_survived = train[(train['Survived']==1) & (train['Sex']==\"male\")]\nfemale_survived = train[(train['Survived']==1) & (train['Sex']==\"female\")]\nmale_not_survived = train[(train['Survived']==0) & (train['Sex']==\"male\")]\nfemale_not_survived = train[(train['Survived']==0) & (train['Sex']==\"female\")]\n\nplt.figure(figsize=[15,5])\nplt.subplot(111)\nsns.distplot(total_survived['Age'].dropna().values, bins=range(0, 81, 1), kde=False, color='blue')\nsns.distplot(total_not_survived['Age'].dropna().values, bins=range(0, 81, 1), kde=False, color='red', axlabel='Age')\n\nplt.figure(figsize=[15,5])\n\nplt.subplot(121)\nsns.distplot(female_survived['Age'].dropna().values, bins=range(0, 81, 1), kde=False, color='blue')\nsns.distplot(female_not_survived['Age'].dropna().values, bins=range(0, 81, 1), kde=False, color='red', axlabel='Female Age')\n\nplt.subplot(122)\nsns.distplot(male_survived['Age'].dropna().values, bins=range(0, 81, 1), kde=False, color='blue')\nsns.distplot(male_not_survived['Age'].dropna().values, bins=range(0, 81, 1), kde=False, color='red', axlabel='Male Age')",
      "execution_count": null,
      "outputs": []
    },
    {
      "metadata": {
        "_cell_guid": "ab809dfe-ea80-4267-84ee-abd30841aab9",
        "_uuid": "27c3303a35c913405de0386d2210fba683afe92e",
        "trusted": false,
        "collapsed": true
      },
      "cell_type": "code",
      "source": "plt.figure(figsize=(15,6))\nsns.heatmap(train.drop('PassengerId',axis=1).corr(), vmax=0.6, square=True, annot=True)",
      "execution_count": null,
      "outputs": []
    },
    {
      "metadata": {
        "_cell_guid": "52c2004c-fa8f-4da6-aadd-3dffcea90f4c",
        "_uuid": "d8ea8be2ce54e084e43feee05fc6ae13864894f1",
        "trusted": false,
        "collapsed": true
      },
      "cell_type": "code",
      "source": "train_test_data = [train, test] # combining train and test dataset\n\nfor dataset in train_test_data:\n    dataset['Title'] = dataset.Name.str.extract(' ([A-Za-z]+)\\.')",
      "execution_count": null,
      "outputs": []
    },
    {
      "metadata": {
        "_cell_guid": "51588e75-feb1-4e3d-8260-3eedd9347b25",
        "_uuid": "81f6bf44d509d70f51e5448f9d03a2c5c7a7f04f",
        "trusted": false,
        "collapsed": true
      },
      "cell_type": "code",
      "source": "train.head()",
      "execution_count": null,
      "outputs": []
    },
    {
      "metadata": {
        "_cell_guid": "67d9d338-3b10-432f-b3b4-2647de307b94",
        "_uuid": "8511aa0514f8727603476d2ab1eddd8e4142d6c9",
        "trusted": false,
        "collapsed": true
      },
      "cell_type": "code",
      "source": "pd.crosstab(train['Title'], train['Sex'])\n",
      "execution_count": null,
      "outputs": []
    },
    {
      "metadata": {
        "_cell_guid": "b15808eb-115b-4a73-a596-0736abe53d38",
        "_uuid": "2f0e821b18c7c615c0187847d1dfd676a41c2b9d",
        "trusted": false,
        "collapsed": true
      },
      "cell_type": "code",
      "source": "for dataset in train_test_data:\n    dataset['Title'] = dataset['Title'].replace(['Lady', 'Countess','Capt', 'Col', \\\n \t'Don', 'Dr', 'Major', 'Rev', 'Sir', 'Jonkheer', 'Dona'], 'Other')\n\n    dataset['Title'] = dataset['Title'].replace('Mlle', 'Miss')\n    dataset['Title'] = dataset['Title'].replace('Ms', 'Miss')\n    dataset['Title'] = dataset['Title'].replace('Mme', 'Mrs')\n    \ntrain[['Title', 'Survived']].groupby(['Title'], as_index=False).mean()",
      "execution_count": null,
      "outputs": []
    },
    {
      "metadata": {
        "_cell_guid": "48a8d012-8315-43d2-b34b-daed689278b1",
        "collapsed": true,
        "_uuid": "1e6caaa977c63f4f541be2f7eb9814c6635a1210",
        "trusted": false
      },
      "cell_type": "code",
      "source": "title_mapping = {\"Mr\": 1, \"Miss\": 2, \"Mrs\": 3, \"Master\": 4, \"Other\": 5}\nfor dataset in train_test_data:\n    dataset['Title'] = dataset['Title'].map(title_mapping)\n    dataset['Title'] = dataset['Title'].fillna(0)",
      "execution_count": null,
      "outputs": []
    },
    {
      "metadata": {
        "_cell_guid": "3c8de73d-e977-43dc-9b5a-bce011bdf00b",
        "_uuid": "3add910bf34ea85ef05b3d3121eb6ba1aefad96e",
        "trusted": false,
        "collapsed": true
      },
      "cell_type": "code",
      "source": "train.head()",
      "execution_count": null,
      "outputs": []
    },
    {
      "metadata": {
        "_cell_guid": "23381095-4d14-4bc3-9383-448949086baa",
        "collapsed": true,
        "_uuid": "5c915f18baca044d1d6678c8488a15d29991abdc",
        "trusted": false
      },
      "cell_type": "code",
      "source": "for dataset in train_test_data:\n    dataset['Sex'] = dataset['Sex'].map( {'female': 1, 'male': 0} ).astype(int)",
      "execution_count": null,
      "outputs": []
    },
    {
      "metadata": {
        "_cell_guid": "48758069-f5ae-4520-9214-83b88bd2cf92",
        "_uuid": "be48e2dc59c4fdb94effcd622c4f97b7ef41918a",
        "trusted": false,
        "collapsed": true
      },
      "cell_type": "code",
      "source": "train.head()",
      "execution_count": null,
      "outputs": []
    },
    {
      "metadata": {
        "_cell_guid": "a80c32fe-7ead-47c1-bd48-130794777875",
        "_uuid": "eabf60ddf4e58beefac3e49eb9e55a0a9b3b904b",
        "trusted": false,
        "collapsed": true
      },
      "cell_type": "code",
      "source": "train.Embarked.unique()\n",
      "execution_count": null,
      "outputs": []
    },
    {
      "metadata": {
        "_cell_guid": "185c3f72-ae40-48ac-9389-47193628831f",
        "_uuid": "f0f09a88b529caddbb5d98df44d691190957a5da",
        "trusted": false,
        "collapsed": true
      },
      "cell_type": "code",
      "source": "train.Embarked.value_counts()",
      "execution_count": null,
      "outputs": []
    },
    {
      "metadata": {
        "_cell_guid": "d961235e-1e56-45ef-904e-d2d5fd953847",
        "_uuid": "875325804ef62f3f81313abde3b5d7c5c9728df8",
        "trusted": false,
        "collapsed": true
      },
      "cell_type": "code",
      "source": "for dataset in train_test_data:\n    dataset['Embarked'] = dataset['Embarked'].fillna('S')\ntrain.head()",
      "execution_count": null,
      "outputs": []
    },
    {
      "metadata": {
        "_cell_guid": "83ee3234-c525-4fc7-ad56-151fc90dd071",
        "_uuid": "5d4e1e7e36d560485105c203926af8449d708335",
        "trusted": false,
        "collapsed": true
      },
      "cell_type": "code",
      "source": "for dataset in train_test_data:\n    #print(dataset.Embarked.unique())\n    dataset['Embarked'] = dataset['Embarked'].map( {'S': 0, 'C': 1, 'Q': 2} ).astype(int)\n\ntrain.head()",
      "execution_count": null,
      "outputs": []
    },
    {
      "metadata": {
        "_cell_guid": "83feff6d-8750-4eb3-8953-1ea675cacd4f",
        "_uuid": "973e5663ce44627dec73c0c1c1d08df09a3048a8",
        "trusted": false,
        "collapsed": true
      },
      "cell_type": "code",
      "source": "for dataset in train_test_data:\n    age_avg = dataset['Age'].mean()\n    age_std = dataset['Age'].std()\n    age_null_count = dataset['Age'].isnull().sum()\n    \n    age_null_random_list = np.random.randint(age_avg - age_std, age_avg + age_std, size=age_null_count)\n    dataset['Age'][np.isnan(dataset['Age'])] = age_null_random_list\n    dataset['Age'] = dataset['Age'].astype(int)\n    \ntrain['AgeBand'] = pd.cut(train['Age'], 5)\n\nprint (train[['AgeBand', 'Survived']].groupby(['AgeBand'], as_index=False).mean())",
      "execution_count": null,
      "outputs": []
    },
    {
      "metadata": {
        "_cell_guid": "435ebc90-9a34-4a90-8f52-dbd859d88ef5",
        "_uuid": "4f01e8d54b0914e573b4c82fca35ece58034b5ac",
        "trusted": false,
        "collapsed": true
      },
      "cell_type": "code",
      "source": "train.head()",
      "execution_count": null,
      "outputs": []
    },
    {
      "metadata": {
        "_cell_guid": "221beb54-9eaa-4f05-bbab-d646390f3552",
        "_uuid": "9a8d333a0c3076fc2d1f5718127e1b5472d46673",
        "trusted": false,
        "collapsed": true
      },
      "cell_type": "code",
      "source": "#Mapping Age\nfor dataset in train_test_data:\n    dataset.loc[ dataset['Age'] <= 16, 'Age'] = 0\n    dataset.loc[(dataset['Age'] > 16) & (dataset['Age'] <= 32), 'Age'] = 1\n    dataset.loc[(dataset['Age'] > 32) & (dataset['Age'] <= 48), 'Age'] = 2\n    dataset.loc[(dataset['Age'] > 48) & (dataset['Age'] <= 64), 'Age'] = 3\n    dataset.loc[ dataset['Age'] > 64, 'Age'] = 4\ntrain.head()",
      "execution_count": null,
      "outputs": []
    },
    {
      "metadata": {
        "_cell_guid": "44b86b1d-a054-4a14-a5dd-b1bedeb0d989",
        "collapsed": true,
        "_uuid": "f6de0d47cf93c8f20cea42dd7e2b39971b910e26",
        "trusted": false
      },
      "cell_type": "code",
      "source": "for dataset in train_test_data:\n    dataset['Fare'] = dataset['Fare'].fillna(train['Fare'].median())",
      "execution_count": null,
      "outputs": []
    },
    {
      "metadata": {
        "_cell_guid": "2ae2cf5e-23b2-4f90-8dca-d88a8e67a6a8",
        "_uuid": "152b2a09d75f788f964b13df45b7d272209b6a1c",
        "trusted": false,
        "collapsed": true
      },
      "cell_type": "code",
      "source": "train['FareBand'] = pd.qcut(train['Fare'], 4)\nprint (train[['FareBand', 'Survived']].groupby(['FareBand'], as_index=False).mean())",
      "execution_count": null,
      "outputs": []
    },
    {
      "metadata": {
        "_cell_guid": "02d78431-dc62-4e3b-b957-f53f11add951",
        "_uuid": "1515c2e887bcd0021a40e87fdb3d5968603e8441",
        "trusted": false,
        "collapsed": true
      },
      "cell_type": "code",
      "source": "train.head()",
      "execution_count": null,
      "outputs": []
    },
    {
      "metadata": {
        "_cell_guid": "ee1f1422-4c5c-4ce0-ab6e-86d87f5a62ea",
        "_uuid": "ca162e30b5677d13f4f58946dd517221d5a0bc6c",
        "trusted": false,
        "collapsed": true
      },
      "cell_type": "code",
      "source": "#Mapping Fare\nfor dataset in train_test_data:\n    dataset.loc[ dataset['Fare'] <= 7.91, 'Fare'] = 0\n    dataset.loc[(dataset['Fare'] > 7.91) & (dataset['Fare'] <= 14.454), 'Fare'] = 1\n    dataset.loc[(dataset['Fare'] > 14.454) & (dataset['Fare'] <= 31), 'Fare']   = 2\n    dataset.loc[ dataset['Fare'] > 31, 'Fare'] = 3\n    dataset['Fare'] = dataset['Fare'].astype(int)\ntrain.head()",
      "execution_count": null,
      "outputs": []
    },
    {
      "metadata": {
        "_cell_guid": "91a008a0-bb1b-4bfa-88bc-584599474ed5",
        "_uuid": "0efbae4b4d40929eb62d34d1b4b9dd0574e9f68d",
        "trusted": false,
        "collapsed": true
      },
      "cell_type": "code",
      "source": "for dataset in train_test_data:\n    dataset['FamilySize'] = dataset['SibSp'] +  dataset['Parch'] + 1\n\nprint (train[['FamilySize', 'Survived']].groupby(['FamilySize'], as_index=False).mean())",
      "execution_count": null,
      "outputs": []
    },
    {
      "metadata": {
        "_cell_guid": "74c82504-77c4-479c-a0e5-d79706917597",
        "_uuid": "30da6c9b1ac8b29a3eab01ac815f9964405aa618",
        "trusted": false,
        "collapsed": true
      },
      "cell_type": "code",
      "source": "for dataset in train_test_data:\n    dataset['IsAlone'] = 0\n    dataset.loc[dataset['FamilySize'] == 1, 'IsAlone'] = 1\n    \nprint (train[['IsAlone', 'Survived']].groupby(['IsAlone'], as_index=False).mean())",
      "execution_count": null,
      "outputs": []
    },
    {
      "metadata": {
        "_cell_guid": "894197d5-f47f-4eaf-a126-88d027a8c29e",
        "_uuid": "8afbc873b0974afecf0774a20317dfbfc8245e3f",
        "trusted": false,
        "collapsed": true
      },
      "cell_type": "code",
      "source": "train.head(1)",
      "execution_count": null,
      "outputs": []
    },
    {
      "metadata": {
        "_cell_guid": "98700b33-c078-4ac2-9001-64e74eddc1a2",
        "_uuid": "b9938abe90f7903679150fe68c47dff3e3a217d9",
        "trusted": false,
        "collapsed": true
      },
      "cell_type": "code",
      "source": "test.head(1)",
      "execution_count": null,
      "outputs": []
    },
    {
      "metadata": {
        "_cell_guid": "f50131da-7b82-43e8-88f8-33f93588dd9a",
        "_uuid": "2e03595042fe091f75f91b908ae82e01272604dc",
        "trusted": false,
        "collapsed": true
      },
      "cell_type": "code",
      "source": "features_drop = ['Name', 'SibSp', 'Parch', 'Ticket', 'Cabin', 'FamilySize']\ntrain = train.drop(features_drop, axis=1)\ntest = test.drop(features_drop, axis=1)\ntrain = train.drop(['PassengerId', 'AgeBand', 'FareBand'], axis=1)",
      "execution_count": null,
      "outputs": []
    },
    {
      "metadata": {
        "_cell_guid": "c6ebc078-6b1b-4e6b-b49f-285452d09207",
        "_uuid": "f01a1897f9da60c45ba85091cccaa6f0aa732fad",
        "trusted": false,
        "collapsed": true
      },
      "cell_type": "code",
      "source": "train.head()",
      "execution_count": null,
      "outputs": []
    },
    {
      "metadata": {
        "_cell_guid": "f6b26592-f749-4d53-8363-7c900fe6fff8",
        "_uuid": "c6631a69fc5e347dc915e6f2084b725de12be0ec",
        "trusted": false,
        "collapsed": true
      },
      "cell_type": "code",
      "source": "test.head()",
      "execution_count": null,
      "outputs": []
    },
    {
      "metadata": {
        "_cell_guid": "ef252cc2-775c-42b1-b02b-be7547df6a11",
        "_uuid": "6aa19c5cfd7a99ccb7b589b616269fc44c4f3313",
        "trusted": false,
        "collapsed": true
      },
      "cell_type": "code",
      "source": "X_train = train.drop('Survived', axis=1)\ny_train = train['Survived']\nX_test = test.drop(\"PassengerId\", axis=1).copy()\n\nX_train.shape, y_train.shape, X_test.shape",
      "execution_count": null,
      "outputs": []
    },
    {
      "metadata": {
        "_cell_guid": "41480c90-3eaf-461d-9c59-60b376e44ec5",
        "collapsed": true,
        "_uuid": "ff3a54910a46c44ac941bd6bb61650b750c42d93",
        "trusted": false
      },
      "cell_type": "code",
      "source": "# Importing Classifier Modules\nfrom sklearn.linear_model import LogisticRegression\nfrom sklearn.svm import SVC, LinearSVC\nfrom sklearn.neighbors import KNeighborsClassifier\nfrom sklearn.tree import DecisionTreeClassifier\nfrom sklearn.ensemble import RandomForestClassifier\nfrom sklearn.naive_bayes import GaussianNB\nfrom sklearn.linear_model import Perceptron\nfrom sklearn.linear_model import SGDClassifier",
      "execution_count": null,
      "outputs": []
    },
    {
      "metadata": {
        "_cell_guid": "11a734dd-48ff-4eca-9c2b-87f724e4abaa",
        "_uuid": "ee1f11790f728495baccdbe4c804173ae1e54817",
        "trusted": false,
        "collapsed": true
      },
      "cell_type": "code",
      "source": "clf = RandomForestClassifier(n_estimators=100)\nclf.fit(X_train, y_train)\ny_pred_random_forest = clf.predict(X_test)\nacc_random_forest = round(clf.score(X_train, y_train) * 100, 2)\nprint (acc_random_forest)",
      "execution_count": null,
      "outputs": []
    },
    {
      "metadata": {
        "_cell_guid": "cc924839-1096-4c42-9c81-cfb1dcdc74d5",
        "_uuid": "02d171ec4bd22ecc2e1d40f81999e761856ea2b2",
        "trusted": false,
        "collapsed": true
      },
      "cell_type": "code",
      "source": "test.head()",
      "execution_count": null,
      "outputs": []
    },
    {
      "metadata": {
        "_cell_guid": "097bd0dd-a0d1-4658-b3fe-8a7bafc42b98",
        "_uuid": "3c448b254107b8070e477ddb20d80086a731947d",
        "trusted": false,
        "collapsed": true
      },
      "cell_type": "code",
      "source": "submission = pd.DataFrame({\n        \"PassengerId\": test[\"PassengerId\"],\n        \"Survived\": y_pred_random_forest\n    })\nsubmission.to_csv('submission.csv', index=False)",
      "execution_count": null,
      "outputs": []
    },
    {
      "metadata": {
        "_cell_guid": "56a6f8ba-ef1c-4e84-901f-517ed4d599ee",
        "collapsed": true,
        "_uuid": "d706cd6e09423888be3644a420907590cd54be7b",
        "trusted": false
      },
      "cell_type": "code",
      "source": "",
      "execution_count": null,
      "outputs": []
    }
  ],
  "metadata": {
    "language_info": {
      "mimetype": "text/x-python",
      "nbconvert_exporter": "python",
      "codemirror_mode": {
        "version": 3,
        "name": "ipython"
      },
      "version": "3.6.4",
      "name": "python",
      "file_extension": ".py",
      "pygments_lexer": "ipython3"
    },
    "kernelspec": {
      "display_name": "Python 3",
      "language": "python",
      "name": "python3"
    }
  },
  "nbformat": 4,
  "nbformat_minor": 1
}